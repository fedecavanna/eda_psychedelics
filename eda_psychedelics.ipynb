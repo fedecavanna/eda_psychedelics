{
 "cells": [
  {
   "cell_type": "markdown",
   "metadata": {},
   "source": [
    "Imports"
   ]
  },
  {
   "cell_type": "code",
   "execution_count": 9,
   "metadata": {},
   "outputs": [],
   "source": [
    "import pandas as pd\n",
    "from IPython.display import display, HTML\n",
    " \n",
    "from termcolor import colored\n",
    "\n",
    "import plotly.subplots as sp\n",
    "import plotly.graph_objects as go"
   ]
  },
  {
   "cell_type": "markdown",
   "metadata": {},
   "source": [
    "Initial Databases before pre-processing"
   ]
  },
  {
   "cell_type": "code",
   "execution_count": 10,
   "metadata": {},
   "outputs": [
    {
     "data": {
      "text/html": [
       "<table border=\"1\" class=\"dataframe\">\n",
       "  <thead>\n",
       "    <tr style=\"text-align: right;\">\n",
       "      <th></th>\n",
       "      <th>Timestamp</th>\n",
       "      <th>ID</th>\n",
       "      <th>Condición</th>\n",
       "      <th>Indique cómo se siente EN ESTE MOMENTO. [Me siento calmado]</th>\n",
       "      <th>Indique cómo se siente EN ESTE MOMENTO. [Me siento seguro]</th>\n",
       "      <th>Indique cómo se siente EN ESTE MOMENTO. [Estoy tenso]</th>\n",
       "      <th>Indique cómo se siente EN ESTE MOMENTO. [Me siento disgustado]</th>\n",
       "      <th>Indique cómo se siente EN ESTE MOMENTO. [Me siento “a mis anchas”]</th>\n",
       "      <th>Indique cómo se siente EN ESTE MOMENTO. [Me siento alterado]</th>\n",
       "      <th>Indique cómo se siente EN ESTE MOMENTO. [En este momento estoy preocupado por algún posible problema]</th>\n",
       "      <th>Indique cómo se siente EN ESTE MOMENTO. [Me siento satisfecho]</th>\n",
       "      <th>Indique cómo se siente EN ESTE MOMENTO. [Me siento asustado]</th>\n",
       "      <th>Indique cómo se siente EN ESTE MOMENTO. [Me siento cómodo]</th>\n",
       "      <th>Indique cómo se siente EN ESTE MOMENTO. [Tengo confianza en mí mismo]</th>\n",
       "      <th>Indique cómo se siente EN ESTE MOMENTO. [Me siento nervioso]</th>\n",
       "      <th>...</th>\n",
       "    </tr>\n",
       "  </thead>\n",
       "  <tbody>\n",
       "    <tr>\n",
       "      <th>0</th>\n",
       "      <td>11/1/2021 17:10:12</td>\n",
       "      <td>S01</td>\n",
       "      <td>A</td>\n",
       "      <td>Bastante</td>\n",
       "      <td>Mucho</td>\n",
       "      <td>Nada</td>\n",
       "      <td>Nada</td>\n",
       "      <td>Bastante</td>\n",
       "      <td>Nada</td>\n",
       "      <td>Nada</td>\n",
       "      <td>Mucho</td>\n",
       "      <td>Nada</td>\n",
       "      <td>Bastante</td>\n",
       "      <td>Mucho</td>\n",
       "      <td>Nada</td>\n",
       "      <td>...</td>\n",
       "    </tr>\n",
       "    <tr>\n",
       "      <th>1</th>\n",
       "      <td>11/10/2021 15:08:27</td>\n",
       "      <td>s02</td>\n",
       "      <td>A</td>\n",
       "      <td>Mucho</td>\n",
       "      <td>Mucho</td>\n",
       "      <td>Nada</td>\n",
       "      <td>Nada</td>\n",
       "      <td>Mucho</td>\n",
       "      <td>Nada</td>\n",
       "      <td>Nada</td>\n",
       "      <td>Mucho</td>\n",
       "      <td>Nada</td>\n",
       "      <td>Mucho</td>\n",
       "      <td>Mucho</td>\n",
       "      <td>Nada</td>\n",
       "      <td>...</td>\n",
       "    </tr>\n",
       "    <tr>\n",
       "      <th>2</th>\n",
       "      <td>11/10/2021 17:05:36</td>\n",
       "      <td>S03</td>\n",
       "      <td>A</td>\n",
       "      <td>Un poco</td>\n",
       "      <td>Bastante</td>\n",
       "      <td>Un poco</td>\n",
       "      <td>Nada</td>\n",
       "      <td>Nada</td>\n",
       "      <td>Nada</td>\n",
       "      <td>Un poco</td>\n",
       "      <td>Bastante</td>\n",
       "      <td>Nada</td>\n",
       "      <td>Bastante</td>\n",
       "      <td>Bastante</td>\n",
       "      <td>Nada</td>\n",
       "      <td>...</td>\n",
       "    </tr>\n",
       "    <tr>\n",
       "      <th>3</th>\n",
       "      <td>11/19/2021 15:27:47</td>\n",
       "      <td>S04</td>\n",
       "      <td>A</td>\n",
       "      <td>Bastante</td>\n",
       "      <td>Bastante</td>\n",
       "      <td>Nada</td>\n",
       "      <td>Nada</td>\n",
       "      <td>Un poco</td>\n",
       "      <td>Nada</td>\n",
       "      <td>Nada</td>\n",
       "      <td>Bastante</td>\n",
       "      <td>Nada</td>\n",
       "      <td>Bastante</td>\n",
       "      <td>Bastante</td>\n",
       "      <td>Nada</td>\n",
       "      <td>...</td>\n",
       "    </tr>\n",
       "    <tr>\n",
       "      <th>4</th>\n",
       "      <td>11/24/2021 14:29:54</td>\n",
       "      <td>s05</td>\n",
       "      <td>A</td>\n",
       "      <td>Bastante</td>\n",
       "      <td>Bastante</td>\n",
       "      <td>Nada</td>\n",
       "      <td>Nada</td>\n",
       "      <td>Bastante</td>\n",
       "      <td>Nada</td>\n",
       "      <td>Nada</td>\n",
       "      <td>Bastante</td>\n",
       "      <td>Nada</td>\n",
       "      <td>Bastante</td>\n",
       "      <td>Bastante</td>\n",
       "      <td>Nada</td>\n",
       "      <td>...</td>\n",
       "    </tr>\n",
       "  </tbody>\n",
       "</table>"
      ],
      "text/plain": [
       "<IPython.core.display.HTML object>"
      ]
     },
     "metadata": {},
     "output_type": "display_data"
    },
    {
     "data": {
      "text/html": [
       "<table border=\"1\" class=\"dataframe\">\n",
       "  <thead>\n",
       "    <tr style=\"text-align: right;\">\n",
       "      <th></th>\n",
       "      <th>Marca temporal</th>\n",
       "      <th>Nombre y apellido</th>\n",
       "      <th>ID de sujeto</th>\n",
       "      <th>Indique cómo se siente EN ESTE MOMENTO. [Me siento calmado]</th>\n",
       "      <th>Indique cómo se siente EN ESTE MOMENTO. [Me siento seguro]</th>\n",
       "      <th>Indique cómo se siente EN ESTE MOMENTO. [Estoy tenso]</th>\n",
       "      <th>Indique cómo se siente EN ESTE MOMENTO. [Me siento disgustado]</th>\n",
       "      <th>Indique cómo se siente EN ESTE MOMENTO. [Me siento “a mis anchas”]</th>\n",
       "      <th>Indique cómo se siente EN ESTE MOMENTO. [Me siento alterado]</th>\n",
       "      <th>Indique cómo se siente EN ESTE MOMENTO. [En este momento estoy preocupado por algún posible problema]</th>\n",
       "      <th>Indique cómo se siente EN ESTE MOMENTO. [Me siento satisfecho]</th>\n",
       "      <th>Indique cómo se siente EN ESTE MOMENTO. [Me siento asustado]</th>\n",
       "      <th>Indique cómo se siente EN ESTE MOMENTO. [Me siento cómodo]</th>\n",
       "      <th>Indique cómo se siente EN ESTE MOMENTO. [Tengo confianza en mí mismo]</th>\n",
       "      <th>Indique cómo se siente EN ESTE MOMENTO. [Me siento nervioso]</th>\n",
       "      <th>...</th>\n",
       "    </tr>\n",
       "  </thead>\n",
       "  <tbody>\n",
       "    <tr>\n",
       "      <th>0</th>\n",
       "      <td>26/11/2021 17:27:59</td>\n",
       "      <td>Manuel Barberis</td>\n",
       "      <td>4</td>\n",
       "      <td>Mucho</td>\n",
       "      <td>Mucho</td>\n",
       "      <td>Nada</td>\n",
       "      <td>Nada</td>\n",
       "      <td>Mucho</td>\n",
       "      <td>Nada</td>\n",
       "      <td>Nada</td>\n",
       "      <td>Mucho</td>\n",
       "      <td>Nada</td>\n",
       "      <td>Mucho</td>\n",
       "      <td>Mucho</td>\n",
       "      <td>Nada</td>\n",
       "      <td>...</td>\n",
       "    </tr>\n",
       "    <tr>\n",
       "      <th>1</th>\n",
       "      <td>26/11/2021 17:30:22</td>\n",
       "      <td>Constanza Muller</td>\n",
       "      <td>1</td>\n",
       "      <td>Mucho</td>\n",
       "      <td>Mucho</td>\n",
       "      <td>Nada</td>\n",
       "      <td>Nada</td>\n",
       "      <td>Mucho</td>\n",
       "      <td>Nada</td>\n",
       "      <td>Nada</td>\n",
       "      <td>Mucho</td>\n",
       "      <td>Nada</td>\n",
       "      <td>Mucho</td>\n",
       "      <td>Mucho</td>\n",
       "      <td>Nada</td>\n",
       "      <td>...</td>\n",
       "    </tr>\n",
       "    <tr>\n",
       "      <th>2</th>\n",
       "      <td>26/11/2021 17:36:34</td>\n",
       "      <td>karen Muller</td>\n",
       "      <td>2</td>\n",
       "      <td>Mucho</td>\n",
       "      <td>Mucho</td>\n",
       "      <td>Nada</td>\n",
       "      <td>Nada</td>\n",
       "      <td>Mucho</td>\n",
       "      <td>Nada</td>\n",
       "      <td>Nada</td>\n",
       "      <td>Mucho</td>\n",
       "      <td>Nada</td>\n",
       "      <td>Mucho</td>\n",
       "      <td>Mucho</td>\n",
       "      <td>Nada</td>\n",
       "      <td>...</td>\n",
       "    </tr>\n",
       "    <tr>\n",
       "      <th>3</th>\n",
       "      <td>26/11/2021 17:45:37</td>\n",
       "      <td>Lucrecia Grande Rocha</td>\n",
       "      <td>5</td>\n",
       "      <td>Mucho</td>\n",
       "      <td>Mucho</td>\n",
       "      <td>Nada</td>\n",
       "      <td>Nada</td>\n",
       "      <td>Bastante</td>\n",
       "      <td>Nada</td>\n",
       "      <td>Nada</td>\n",
       "      <td>Bastante</td>\n",
       "      <td>Nada</td>\n",
       "      <td>Bastante</td>\n",
       "      <td>Mucho</td>\n",
       "      <td>Nada</td>\n",
       "      <td>...</td>\n",
       "    </tr>\n",
       "    <tr>\n",
       "      <th>4</th>\n",
       "      <td>26/11/2021 18:03:22</td>\n",
       "      <td>Joaquin Barberis</td>\n",
       "      <td>3</td>\n",
       "      <td>Bastante</td>\n",
       "      <td>Mucho</td>\n",
       "      <td>Nada</td>\n",
       "      <td>Nada</td>\n",
       "      <td>Bastante</td>\n",
       "      <td>Nada</td>\n",
       "      <td>Un poco</td>\n",
       "      <td>Bastante</td>\n",
       "      <td>Nada</td>\n",
       "      <td>Bastante</td>\n",
       "      <td>Mucho</td>\n",
       "      <td>Nada</td>\n",
       "      <td>...</td>\n",
       "    </tr>\n",
       "  </tbody>\n",
       "</table>"
      ],
      "text/plain": [
       "<IPython.core.display.HTML object>"
      ]
     },
     "metadata": {},
     "output_type": "display_data"
    }
   ],
   "source": [
    "filepath = r'C:\\Users\\Fede\\Desktop\\Drive\\3_Recursos\\Code\\tesis_juli\\DBs'\n",
    "#filepath = r'D:\\Drive\\3_Recursos\\Code\\tesis_juli\\DBs'\n",
    "max_cols = 15\n",
    "\n",
    "psilo1_df = pd.read_csv(r'{}/raw/psilopercep.csv'.format(filepath))\n",
    "show_cols1_df = psilo1_df.iloc[:, :max_cols]\n",
    "show_cols1_df['...'] = '...'\n",
    "\n",
    "psilo2_df = pd.read_csv(filepath + '/raw/psilocomp.csv') \n",
    "show_cols2_df = psilo2_df.iloc[:, :max_cols]\n",
    "show_cols2_df['...'] = '...'\n",
    "\n",
    "display(HTML(show_cols1_df.head().to_html()))\n",
    "display(HTML(show_cols2_df.head().to_html()))"
   ]
  },
  {
   "cell_type": "markdown",
   "metadata": {},
   "source": [
    "Pre-proccessing functions"
   ]
  },
  {
   "cell_type": "code",
   "execution_count": 11,
   "metadata": {},
   "outputs": [],
   "source": [
    "def prepro_psilocomp(filepath):\n",
    "    # Unblinding de los sujetos de grupos de '3 gramos' vs 'control' (grupos 1, 2, 5, 6, 7)\n",
    "    cond_lst = [1,2,3,4,5,6,7,8,9,10,21,22,25,26,27,28,29,30,31,32,33,34] \n",
    "    \n",
    "    # Cargo la DB no procesada del experimento de psilocibina y compasión:\n",
    "    prepro_df = pd.read_csv(r'{}/raw/psilocomp.csv'.format(filepath)) \n",
    "    prepro_df = pd.concat([prepro_df.iloc[:,[2]], prepro_df.iloc[:,135:228]], axis=1)\n",
    "        \n",
    "    # Algunas columnas fueron exportadas con espacios\n",
    "    prepro_df.columns = prepro_df.columns.str.strip()    \n",
    "    # Agrego una columna en la posición 21 de las preguntas, ya que falta. \n",
    "    prepro_df.insert(21, 'Me sentí atormentado/a.', 1)    \n",
    "    # Mantengo aquellos sujetos que estén en la lista de dosis activa:\n",
    "    prepro_df = prepro_df[prepro_df['ID de sujeto'].isin(cond_lst)]\n",
    "\n",
    "    # Ahora cargo las excalas pre, con las cuales haré el merge.\n",
    "    basal_df = pd.read_csv(r'{}/raw/psilocomp_basal.csv'.format(filepath)) \n",
    "    basal_df = pd.concat([basal_df.iloc[:,[2]], basal_df.iloc[:,3:47]], axis=1)\n",
    "    # Algunas columnas fueron exportadas con espacios. También normalizo los IDS\n",
    "    basal_df.columns = basal_df.columns.str.strip()\n",
    "    # Me quedo solo con la primera escala BFI, que fue la que respondieron antes de la toma:\n",
    "    basal_df = basal_df.drop_duplicates(subset=[\"ID de sujeto\"], keep=\"first\")\n",
    "    # Mantengo aquellos sujetos que estén en la lista de dosis activa:\n",
    "    basal_df = basal_df[basal_df['ID de sujeto'].isin(cond_lst)]    \n",
    "    \n",
    "    # Uno databases y 5D-ASC basado en el ID de sujeto\n",
    "    result_df = prepro_df.merge(basal_df, how='left', on=['ID de sujeto']) \n",
    "    # Reinicio el índice\n",
    "    result_df = result_df.reset_index(drop=True)     \n",
    "    \n",
    "    return result_df\n",
    "\n",
    "# -------------------------------------------------------------------------------------------------------------------------------------------\n",
    "def prepro_dmt(filepath):\n",
    "    # Cargo la DB ya procesada del experimento de DMT:\n",
    "    prepro_df = pd.read_csv(filepath + '/raw/dmt.csv')\n",
    "    # Me quedo solamente con los features que voy a utilizar.\n",
    "    prepro_df = pd.concat([prepro_df.iloc[:,13:18], prepro_df.iloc[:,43:54], prepro_df.iloc[:,20]], axis=1)\n",
    "    prepro_df.reset_index(drop=True)\n",
    "    # Renombro aquellas columnas que voy a utilizar (BFI basal, pre experimento)\n",
    "    prepro_df = prepro_df.rename(columns={\"BFI1-E\": \"BFI-E\", \"BFI1-A\": \"BFI-A\", \"BFI1-C\": \"BFI-C\", \n",
    "                                          \"BFI1-N\": \"BFI-N\", \"BFI1-O\": \"BFI-O\"})\n",
    "    \n",
    "    return prepro_df\n",
    "\n",
    "# -------------------------------------------------------------------------------------------------------------------------------------------\n",
    "def prepro_psilopercep(filepath):  \n",
    "    # Cargo la DB no procesada del experimento de psilocibina y percepción:\n",
    "    prepro_df = pd.read_csv(r'{}/raw/psilopercep.csv'.format(filepath))\n",
    "    prepro_df = pd.concat([prepro_df.iloc[:,[1,2]], prepro_df.iloc[:,126:]], axis=1)\n",
    "    # Algunas columnas fueron exportadas con espacios\n",
    "    prepro_df.columns = prepro_df.columns.str.strip()\n",
    "    # Normalizo los IDs\n",
    "    prepro_df['ID'] = prepro_df['ID'].str.upper()\n",
    "    # Agrego una columna con la dosis\n",
    "    prepro_df.insert(2, 'Dosis', 0)\n",
    "    # Agrego una columna en la posición 21 de las preguntas, ya que falta: \n",
    "    prepro_df.insert(21+2, 'Me sentí atormentado/a.', 1)\n",
    "    \n",
    "    # Unblinding de dosis\n",
    "    condA_dict = {'S01':'alta',\n",
    "                  'S02':'alta',\n",
    "                  'S03':'alta',\n",
    "                  'S04':'baja',\n",
    "                  'S05':'baja',\n",
    "                  'S06':'alta',\n",
    "                  'S07':'baja',\n",
    "                  'S08':'baja',\n",
    "                  'S09':'alta',\n",
    "                  'S10':'baja',\n",
    "                  'S11':'baja',\n",
    "                  'S12':'alta',\n",
    "                  'S13':'baja',\n",
    "                  'S14':'alta'}\n",
    "    \n",
    "    # Ahora asigno la dosis a cada condición del diccionario (y para la condición B, que no está en el dict)\n",
    "    for key in condA_dict:\n",
    "      prepro_df.loc[(prepro_df['ID'] == key) & (prepro_df['Condición'] == 'A'),'Dosis'] = condA_dict[key]\n",
    "      prepro_df.loc[(prepro_df['ID'] == key) & (prepro_df['Condición'] == 'B'),'Dosis'] = 'baja' if condA_dict[key] == 'alta' else 'alta'    \n",
    "    # Me quedo solo con las columnas y rows útiles para la comparación (de la condición alta)\n",
    "    prepro_df = prepro_df[prepro_df['Dosis'] == 'alta']\n",
    "    # Ahora cargo el BFI, con el cual haré el merge.\n",
    "    prepro_bfi_df = pd.read_csv(r'{}/raw/psilopercep_basal.csv'.format(filepath)) \n",
    "    prepro_bfi_df = pd.concat([prepro_bfi_df.iloc[:,[1,2]], prepro_bfi_df.iloc[:,23:67]], axis=1)\n",
    "    # Algunas columnas vienen con espacios, las acomodo. También normalizo los IDS\n",
    "    prepro_bfi_df.columns = prepro_bfi_df.columns.str.strip()\n",
    "    prepro_bfi_df['ID'] = prepro_bfi_df['ID'].str.upper()    \n",
    "    # Uno BFI y 5DASC basado en el ID de sujeto\n",
    "    prepro_df = prepro_df.merge(prepro_bfi_df, how='left', on=['ID','Condición']) \n",
    "    # Elimino las columnas que no necesito\n",
    "    prepro_df.drop(['Condición','Dosis'], axis=1, inplace=True)\n",
    "    # Reinicio el índice\n",
    "    prepro_df = prepro_df.reset_index(drop=True)          \n",
    "      \n",
    "    return prepro_df"
   ]
  },
  {
   "cell_type": "markdown",
   "metadata": {},
   "source": [
    "Range normalising functions"
   ]
  },
  {
   "cell_type": "code",
   "execution_count": 12,
   "metadata": {},
   "outputs": [],
   "source": [
    "def proc_rerange(df, col_name, from_min, from_max, to_max):\n",
    "    # Evalúo si debo correr el puntaje para que tenga un mínimo de 0 y el mismo rango            \n",
    "    if from_min > 0:\n",
    "        from_max = from_max - from_min        \n",
    "    \n",
    "    # Modifico la columna para que tome valores entre 0 y to_max:\n",
    "    for i in range(len(df)): \n",
    "      act_value = df.loc[i, col_name]      \n",
    "      # Solo modifico el valor si el usuario llenó el campo\n",
    "      if act_value != -999:\n",
    "          # Si el mínimo no es 0, también tengo que correr el puntaje de la columna\n",
    "          if from_min > 0:\n",
    "              act_value = act_value-from_min\n",
    "    \n",
    "          new_value = (act_value*to_max)/from_max         \n",
    "          new_value = round(new_value, 2)\n",
    "      else:\n",
    "          new_value = act_value\n",
    "          \n",
    "      df.loc[i, col_name+'_reranged'] = new_value\n",
    "    \n",
    "    return df\n",
    "\n",
    "# -------------------------------------------------------------------------------------------------------------------------------------------\n",
    "def normalize_ranges(df, min, max):\n",
    "    # Normalizo las columnas\n",
    "    max_value = 10\n",
    "    \n",
    "    df = proc_rerange(df, 'BFI-E', 8, 40, max_value)\n",
    "    df = proc_rerange(df, 'BFI-A', 9, 45, max_value)\n",
    "    df = proc_rerange(df, 'BFI-C', 9, 45, max_value)\n",
    "    df = proc_rerange(df, 'BFI-N', 8, 40, max_value)\n",
    "    df = proc_rerange(df, 'BFI-O', 10, 50, max_value)  \n",
    "    \n",
    "    df = proc_rerange(df, '5D-Unity', min*5, max*5, max_value)\n",
    "    df = proc_rerange(df, '5D-Spiritual', min*3, max*3, max_value)\n",
    "    df = proc_rerange(df, '5D-Blissful', min*3, max*3, max_value)\n",
    "    df = proc_rerange(df, '5D-Insightfulness', min*3, max*3, max_value)\n",
    "    df = proc_rerange(df, '5D-Disembodiment', min*3, max*3, max_value) \n",
    "    df = proc_rerange(df, '5D-ImpairedC&C', min*7, max*7, max_value)\n",
    "    df = proc_rerange(df, '5D-Anxiety', min*6, max*6, max_value)\n",
    "    df = proc_rerange(df, '5D-ComplexImagery', min*3, max*3, max_value)\n",
    "    df = proc_rerange(df, '5D-ElementaryImagery', min*3, max*3, max_value)\n",
    "    df = proc_rerange(df, '5D-AudioVisualSyn', min*3, max*3, max_value)        \n",
    "    df = proc_rerange(df, '5D-ChangedMeaning', min*3, max*3, max_value)\n",
    "    \n",
    "    return df"
   ]
  },
  {
   "cell_type": "markdown",
   "metadata": {},
   "source": [
    "Score scales"
   ]
  },
  {
   "cell_type": "code",
   "execution_count": 13,
   "metadata": {},
   "outputs": [],
   "source": [
    "def proc_score_extended_bfi(df):\n",
    "    # Calculo estabilidad emocional\n",
    "    neuroticism_maxvalue = 40\n",
    "    df['BFI-ES'] = neuroticism_maxvalue-df.loc[:,['BFI-N']]\n",
    "    # Calculo los factores de segundo orden:\n",
    "    # factor alpha = agreeableness + conscientiousness + emotional stability\n",
    "    # factor beta = extraversion + openness\n",
    "    df['BFI-FAP'] = df.loc[:,['BFI-A','BFI-C','BFI-ES']].sum(axis=1)\n",
    "    df['BFI-FBP'] = df.loc[:,['BFI-E','BFI-O']].sum(axis=1)\n",
    "    # Calculo factor de tercer orden:\n",
    "    # factor general = agreeableness + conscientiousness + emotional stability + extraversion + openness\n",
    "    df['BFI-FGP'] = df.loc[:,['BFI-A','BFI-C','BFI-ES','BFI-E','BFI-O']].sum(axis=1)\n",
    "    return df\n",
    "    \n",
    "def proc_score(df):\n",
    "    bfi_df = df.iloc[:,95:]\n",
    "    d5asc_df = df.iloc[:,1:95]\n",
    "    result_df = pd.DataFrame()\n",
    "    \n",
    "    # BFI    \n",
    "    # Invierto los valores de las columnas negadas\n",
    "    bfi_df.iloc[:,[1,5,7,8,11,17,20,22,23,26,30,33,34,36,40,42]] = bfi_df.iloc[:,[1,5,7,8,11,17,20,22,23,26,30,33,34,36,40,42]].replace([1,2,4,5],[5,4,2,1])\n",
    "\n",
    "    # 21 preguntas. La escala se puntúa de 1 a 5 y la puntuación es directa a los siguientes factores: \n",
    "    # Extraversion: 1,6R,11,16,21R,26,31R,36 (índices: 0,5,10,15,20,25,30,35)\n",
    "    result_df['BFI-E'] = bfi_df.iloc[:,[0,5,10,15,20,25,30,35]].sum(axis=1)\n",
    "    # Agreeability: 2R,7,12R,17,22,27R,32,37R,42 (índices: 1,6,11,16,21,26,31,36,41)\n",
    "    result_df['BFI-A'] = bfi_df.iloc[:,[1,6,11,16,21,26,31,36,41]].sum(axis=1)\n",
    "    # Conscientiousness: 3,8R,13,18R,23R,28,33,38,43R (índices: 2,7,12,17,22,27,32,37,42)\n",
    "    result_df['BFI-C'] = bfi_df.iloc[:,[2,7,12,17,22,27,32,37,42]].sum(axis=1)   \n",
    "    # Neuroticism: 4,9R,14,19,24R,29,34R,39 (índices: 3,8,13,18,23,28,33,38)\n",
    "    result_df['BFI-N'] = bfi_df.iloc[:,[3,8,13,18,23,28,33,38]].sum(axis=1)       \n",
    "    # Openness: 5,10,15,20,25,30,35R,40,41R,44 (índices: 4,9,14,19,24,29,34,39,40,43)\n",
    "    result_df['BFI-O'] = bfi_df.iloc[:,[4,9,14,19,24,29,34,39,40,43]].sum(axis=1)          \n",
    "    # Calculo los factores extendidos:\n",
    "    result_df = proc_score_extended_bfi(result_df)    \n",
    "    \n",
    "    # 5D-ASC\n",
    "    result_df['5D-Unity'] = d5asc_df.iloc[:,[x for x in [17, 33, 40, 41, 51]]].sum(axis=1)\n",
    "    result_df['5D-Spiritual'] = d5asc_df.iloc[:,[x for x in [8, 80, 93]]].sum(axis=1)\n",
    "    result_df['5D-Blissful'] = d5asc_df.iloc[:,[x for x in [11, 85, 90]]].sum(axis=1)\n",
    "    result_df['5D-Insightfulness'] = d5asc_df.iloc[:,[x for x in [49, 68, 76]]].sum(axis=1)\n",
    "    result_df['5D-Disembodiment'] = d5asc_df.iloc[:,[x for x in [25, 61, 62]]].sum(axis=1)\n",
    "    result_df['5D-ImpairedC&C'] = d5asc_df.iloc[:,[x for x in [7, 26, 37, 46, 63, 66, 77]]].sum(axis=1)\n",
    "    result_df['5D-Anxiety'] = d5asc_df.iloc[:,[x for x in [31, 42, 43, 45, 55, 88]]].sum(axis=1)\n",
    "    result_df['5D-ComplexImagery'] = d5asc_df.iloc[:,[x for x in [38, 71, 81]]].sum(axis=1)\n",
    "    result_df['5D-ElementaryImagery'] = d5asc_df.iloc[:,[x for x in [13, 21, 32]]].sum(axis=1)\n",
    "    result_df['5D-AudioVisualSyn'] = d5asc_df.iloc[:,[x for x in [19, 22, 74]]].sum(axis=1)\n",
    "    result_df['5D-ChangedMeaning'] = d5asc_df.iloc[:,[x for x in [27, 30, 53]]].sum(axis=1) \n",
    "    \n",
    "    return result_df"
   ]
  },
  {
   "cell_type": "markdown",
   "metadata": {},
   "source": [
    "Pre procesado"
   ]
  },
  {
   "cell_type": "code",
   "execution_count": 18,
   "metadata": {},
   "outputs": [
    {
     "name": "stderr",
     "output_type": "stream",
     "text": [
      "C:\\Users\\Fede\\AppData\\Local\\Temp\\ipykernel_3420\\2879288050.py:22: SettingWithCopyWarning: \n",
      "A value is trying to be set on a copy of a slice from a DataFrame\n",
      "\n",
      "See the caveats in the documentation: https://pandas.pydata.org/pandas-docs/stable/user_guide/indexing.html#returning-a-view-versus-a-copy\n",
      "  bfi_df.iloc[:,[1,5,7,8,11,17,20,22,23,26,30,33,34,36,40,42]] = bfi_df.iloc[:,[1,5,7,8,11,17,20,22,23,26,30,33,34,36,40,42]].replace([1,2,4,5],[5,4,2,1])\n"
     ]
    }
   ],
   "source": [
    "#filepath = r'D:\\Drive\\3_Recursos\\Code\\tesis_juli\\DBs'\n",
    "filepath = r'C:\\Users\\Fede\\Desktop\\Drive\\3_Recursos\\Code\\tesis_juli\\DBs'\n",
    "\n",
    "# Cargo las DB que contienen los datos en bruto y las pre-proceso para que queden utilizables:\n",
    "psilopercep_df = prepro_psilopercep(filepath)\n",
    "psilocomp_df = prepro_psilocomp(filepath)\n",
    "\n",
    "# Puntúo las escalas del experimento de compasión y percepción, ya que las del experimento de DMT están puntuadas:        \n",
    "db1 = proc_score(psilopercep_df)\n",
    "db2 = proc_score(psilocomp_df)\n",
    "# Luego uno las DB de los experimentos de psilocibina (percepción y compasión)\n",
    "psilo_df = pd.concat([db1, db2], axis=0).reset_index(drop=True)       \n",
    "# Transformo los puntajes (no uso z-scores ya que no puedo realizar el análisis de varianza sino)\n",
    "psilo_df = normalize_ranges(psilo_df, 1, 10)\n",
    "\n",
    "# Hago lo mismo con las escalas de DMT\n",
    "dmt_df = prepro_dmt(filepath)\n",
    "dmt_df = proc_score_extended_bfi(dmt_df)\n",
    "dmt_df = normalize_ranges(dmt_df, 0, 90)\n",
    "            \n",
    "# Guardo\n",
    "psilo_df.to_csv(r'{}\\psilo_scored.csv'.format(filepath))\n",
    "dmt_df.to_csv(r'{}\\dmt_scored.csv'.format(filepath))"
   ]
  },
  {
   "cell_type": "markdown",
   "metadata": {},
   "source": [
    "Work databases after pre-processing"
   ]
  },
  {
   "cell_type": "code",
   "execution_count": 19,
   "metadata": {},
   "outputs": [
    {
     "data": {
      "text/html": [
       "<table border=\"1\" class=\"dataframe\">\n",
       "  <thead>\n",
       "    <tr style=\"text-align: right;\">\n",
       "      <th></th>\n",
       "      <th>Unnamed: 0</th>\n",
       "      <th>BFI-E</th>\n",
       "      <th>BFI-A</th>\n",
       "      <th>BFI-C</th>\n",
       "      <th>BFI-N</th>\n",
       "      <th>BFI-O</th>\n",
       "      <th>BFI-ES</th>\n",
       "      <th>BFI-FAP</th>\n",
       "      <th>BFI-FBP</th>\n",
       "      <th>BFI-FGP</th>\n",
       "      <th>5D-Unity</th>\n",
       "      <th>5D-Spiritual</th>\n",
       "      <th>5D-Blissful</th>\n",
       "      <th>5D-Insightfulness</th>\n",
       "      <th>5D-Disembodiment</th>\n",
       "      <th>5D-ImpairedC&amp;C</th>\n",
       "      <th>5D-Anxiety</th>\n",
       "      <th>5D-ComplexImagery</th>\n",
       "      <th>5D-ElementaryImagery</th>\n",
       "      <th>5D-AudioVisualSyn</th>\n",
       "      <th>5D-ChangedMeaning</th>\n",
       "      <th>BFI-E_reranged</th>\n",
       "      <th>BFI-A_reranged</th>\n",
       "      <th>BFI-C_reranged</th>\n",
       "      <th>BFI-N_reranged</th>\n",
       "      <th>BFI-O_reranged</th>\n",
       "      <th>5D-Unity_reranged</th>\n",
       "      <th>5D-Spiritual_reranged</th>\n",
       "      <th>5D-Blissful_reranged</th>\n",
       "      <th>5D-Insightfulness_reranged</th>\n",
       "      <th>5D-Disembodiment_reranged</th>\n",
       "      <th>5D-ImpairedC&amp;C_reranged</th>\n",
       "      <th>5D-Anxiety_reranged</th>\n",
       "      <th>5D-ComplexImagery_reranged</th>\n",
       "      <th>5D-ElementaryImagery_reranged</th>\n",
       "      <th>5D-AudioVisualSyn_reranged</th>\n",
       "      <th>5D-ChangedMeaning_reranged</th>\n",
       "    </tr>\n",
       "  </thead>\n",
       "  <tbody>\n",
       "    <tr>\n",
       "      <th>0</th>\n",
       "      <td>0</td>\n",
       "      <td>30</td>\n",
       "      <td>32</td>\n",
       "      <td>35</td>\n",
       "      <td>20</td>\n",
       "      <td>49</td>\n",
       "      <td>20</td>\n",
       "      <td>87</td>\n",
       "      <td>79</td>\n",
       "      <td>166</td>\n",
       "      <td>6</td>\n",
       "      <td>3</td>\n",
       "      <td>4</td>\n",
       "      <td>6</td>\n",
       "      <td>3</td>\n",
       "      <td>20</td>\n",
       "      <td>11</td>\n",
       "      <td>10</td>\n",
       "      <td>12</td>\n",
       "      <td>12</td>\n",
       "      <td>3</td>\n",
       "      <td>6.88</td>\n",
       "      <td>6.39</td>\n",
       "      <td>7.22</td>\n",
       "      <td>3.75</td>\n",
       "      <td>9.75</td>\n",
       "      <td>0.22</td>\n",
       "      <td>0.00</td>\n",
       "      <td>0.37</td>\n",
       "      <td>1.11</td>\n",
       "      <td>0.00</td>\n",
       "      <td>2.06</td>\n",
       "      <td>0.93</td>\n",
       "      <td>2.59</td>\n",
       "      <td>3.33</td>\n",
       "      <td>3.33</td>\n",
       "      <td>0.00</td>\n",
       "    </tr>\n",
       "    <tr>\n",
       "      <th>1</th>\n",
       "      <td>1</td>\n",
       "      <td>33</td>\n",
       "      <td>41</td>\n",
       "      <td>33</td>\n",
       "      <td>12</td>\n",
       "      <td>49</td>\n",
       "      <td>28</td>\n",
       "      <td>102</td>\n",
       "      <td>82</td>\n",
       "      <td>184</td>\n",
       "      <td>42</td>\n",
       "      <td>20</td>\n",
       "      <td>26</td>\n",
       "      <td>22</td>\n",
       "      <td>13</td>\n",
       "      <td>19</td>\n",
       "      <td>19</td>\n",
       "      <td>30</td>\n",
       "      <td>30</td>\n",
       "      <td>25</td>\n",
       "      <td>19</td>\n",
       "      <td>7.81</td>\n",
       "      <td>8.89</td>\n",
       "      <td>6.67</td>\n",
       "      <td>1.25</td>\n",
       "      <td>9.75</td>\n",
       "      <td>8.22</td>\n",
       "      <td>6.30</td>\n",
       "      <td>8.52</td>\n",
       "      <td>7.04</td>\n",
       "      <td>3.70</td>\n",
       "      <td>1.90</td>\n",
       "      <td>2.41</td>\n",
       "      <td>10.00</td>\n",
       "      <td>10.00</td>\n",
       "      <td>8.15</td>\n",
       "      <td>5.93</td>\n",
       "    </tr>\n",
       "    <tr>\n",
       "      <th>2</th>\n",
       "      <td>2</td>\n",
       "      <td>21</td>\n",
       "      <td>31</td>\n",
       "      <td>19</td>\n",
       "      <td>32</td>\n",
       "      <td>34</td>\n",
       "      <td>8</td>\n",
       "      <td>58</td>\n",
       "      <td>55</td>\n",
       "      <td>113</td>\n",
       "      <td>7</td>\n",
       "      <td>3</td>\n",
       "      <td>3</td>\n",
       "      <td>7</td>\n",
       "      <td>3</td>\n",
       "      <td>29</td>\n",
       "      <td>13</td>\n",
       "      <td>7</td>\n",
       "      <td>27</td>\n",
       "      <td>3</td>\n",
       "      <td>10</td>\n",
       "      <td>4.06</td>\n",
       "      <td>6.11</td>\n",
       "      <td>2.78</td>\n",
       "      <td>7.50</td>\n",
       "      <td>6.00</td>\n",
       "      <td>0.44</td>\n",
       "      <td>0.00</td>\n",
       "      <td>0.00</td>\n",
       "      <td>1.48</td>\n",
       "      <td>0.00</td>\n",
       "      <td>3.49</td>\n",
       "      <td>1.30</td>\n",
       "      <td>1.48</td>\n",
       "      <td>8.89</td>\n",
       "      <td>0.00</td>\n",
       "      <td>2.59</td>\n",
       "    </tr>\n",
       "    <tr>\n",
       "      <th>3</th>\n",
       "      <td>3</td>\n",
       "      <td>25</td>\n",
       "      <td>35</td>\n",
       "      <td>26</td>\n",
       "      <td>33</td>\n",
       "      <td>41</td>\n",
       "      <td>7</td>\n",
       "      <td>68</td>\n",
       "      <td>66</td>\n",
       "      <td>134</td>\n",
       "      <td>5</td>\n",
       "      <td>8</td>\n",
       "      <td>17</td>\n",
       "      <td>4</td>\n",
       "      <td>13</td>\n",
       "      <td>20</td>\n",
       "      <td>15</td>\n",
       "      <td>14</td>\n",
       "      <td>18</td>\n",
       "      <td>3</td>\n",
       "      <td>12</td>\n",
       "      <td>5.31</td>\n",
       "      <td>7.22</td>\n",
       "      <td>4.72</td>\n",
       "      <td>7.81</td>\n",
       "      <td>7.75</td>\n",
       "      <td>0.00</td>\n",
       "      <td>1.85</td>\n",
       "      <td>5.19</td>\n",
       "      <td>0.37</td>\n",
       "      <td>3.70</td>\n",
       "      <td>2.06</td>\n",
       "      <td>1.67</td>\n",
       "      <td>4.07</td>\n",
       "      <td>5.56</td>\n",
       "      <td>0.00</td>\n",
       "      <td>3.33</td>\n",
       "    </tr>\n",
       "    <tr>\n",
       "      <th>4</th>\n",
       "      <td>4</td>\n",
       "      <td>32</td>\n",
       "      <td>35</td>\n",
       "      <td>34</td>\n",
       "      <td>25</td>\n",
       "      <td>47</td>\n",
       "      <td>15</td>\n",
       "      <td>84</td>\n",
       "      <td>79</td>\n",
       "      <td>163</td>\n",
       "      <td>5</td>\n",
       "      <td>6</td>\n",
       "      <td>4</td>\n",
       "      <td>5</td>\n",
       "      <td>5</td>\n",
       "      <td>14</td>\n",
       "      <td>12</td>\n",
       "      <td>13</td>\n",
       "      <td>29</td>\n",
       "      <td>8</td>\n",
       "      <td>8</td>\n",
       "      <td>7.50</td>\n",
       "      <td>7.22</td>\n",
       "      <td>6.94</td>\n",
       "      <td>5.31</td>\n",
       "      <td>9.25</td>\n",
       "      <td>0.00</td>\n",
       "      <td>1.11</td>\n",
       "      <td>0.37</td>\n",
       "      <td>0.74</td>\n",
       "      <td>0.74</td>\n",
       "      <td>1.11</td>\n",
       "      <td>1.11</td>\n",
       "      <td>3.70</td>\n",
       "      <td>9.63</td>\n",
       "      <td>1.85</td>\n",
       "      <td>1.85</td>\n",
       "    </tr>\n",
       "  </tbody>\n",
       "</table>"
      ],
      "text/plain": [
       "<IPython.core.display.HTML object>"
      ]
     },
     "metadata": {},
     "output_type": "display_data"
    },
    {
     "data": {
      "text/html": [
       "<table border=\"1\" class=\"dataframe\">\n",
       "  <thead>\n",
       "    <tr style=\"text-align: right;\">\n",
       "      <th></th>\n",
       "      <th>Unnamed: 0</th>\n",
       "      <th>BFI-E</th>\n",
       "      <th>BFI-A</th>\n",
       "      <th>BFI-C</th>\n",
       "      <th>BFI-N</th>\n",
       "      <th>BFI-O</th>\n",
       "      <th>5D-Unity</th>\n",
       "      <th>5D-Spiritual</th>\n",
       "      <th>5D-Blissful</th>\n",
       "      <th>5D-Insightfulness</th>\n",
       "      <th>5D-Disembodiment</th>\n",
       "      <th>5D-ImpairedC&amp;C</th>\n",
       "      <th>5D-Anxiety</th>\n",
       "      <th>5D-ComplexImagery</th>\n",
       "      <th>5D-ElementaryImagery</th>\n",
       "      <th>5D-AudioVisualSyn</th>\n",
       "      <th>5D-ChangedMeaning</th>\n",
       "      <th>TAS1</th>\n",
       "      <th>BFI-ES</th>\n",
       "      <th>BFI-FAP</th>\n",
       "      <th>BFI-FBP</th>\n",
       "      <th>BFI-FGP</th>\n",
       "      <th>BFI-E_reranged</th>\n",
       "      <th>BFI-A_reranged</th>\n",
       "      <th>BFI-C_reranged</th>\n",
       "      <th>BFI-N_reranged</th>\n",
       "      <th>BFI-O_reranged</th>\n",
       "      <th>5D-Unity_reranged</th>\n",
       "      <th>5D-Spiritual_reranged</th>\n",
       "      <th>5D-Blissful_reranged</th>\n",
       "      <th>5D-Insightfulness_reranged</th>\n",
       "      <th>5D-Disembodiment_reranged</th>\n",
       "      <th>5D-ImpairedC&amp;C_reranged</th>\n",
       "      <th>5D-Anxiety_reranged</th>\n",
       "      <th>5D-ComplexImagery_reranged</th>\n",
       "      <th>5D-ElementaryImagery_reranged</th>\n",
       "      <th>5D-AudioVisualSyn_reranged</th>\n",
       "      <th>5D-ChangedMeaning_reranged</th>\n",
       "    </tr>\n",
       "  </thead>\n",
       "  <tbody>\n",
       "    <tr>\n",
       "      <th>0</th>\n",
       "      <td>0</td>\n",
       "      <td>29</td>\n",
       "      <td>40</td>\n",
       "      <td>29</td>\n",
       "      <td>16</td>\n",
       "      <td>47</td>\n",
       "      <td>347</td>\n",
       "      <td>167</td>\n",
       "      <td>195</td>\n",
       "      <td>103</td>\n",
       "      <td>72</td>\n",
       "      <td>37</td>\n",
       "      <td>13</td>\n",
       "      <td>33</td>\n",
       "      <td>260</td>\n",
       "      <td>164</td>\n",
       "      <td>45</td>\n",
       "      <td>32</td>\n",
       "      <td>24</td>\n",
       "      <td>93</td>\n",
       "      <td>76</td>\n",
       "      <td>169</td>\n",
       "      <td>6.56</td>\n",
       "      <td>8.61</td>\n",
       "      <td>5.56</td>\n",
       "      <td>2.50</td>\n",
       "      <td>9.25</td>\n",
       "      <td>7.71</td>\n",
       "      <td>6.19</td>\n",
       "      <td>7.22</td>\n",
       "      <td>3.81</td>\n",
       "      <td>2.67</td>\n",
       "      <td>0.59</td>\n",
       "      <td>0.24</td>\n",
       "      <td>1.22</td>\n",
       "      <td>9.63</td>\n",
       "      <td>6.07</td>\n",
       "      <td>1.67</td>\n",
       "    </tr>\n",
       "    <tr>\n",
       "      <th>1</th>\n",
       "      <td>1</td>\n",
       "      <td>27</td>\n",
       "      <td>29</td>\n",
       "      <td>31</td>\n",
       "      <td>23</td>\n",
       "      <td>45</td>\n",
       "      <td>83</td>\n",
       "      <td>174</td>\n",
       "      <td>98</td>\n",
       "      <td>63</td>\n",
       "      <td>184</td>\n",
       "      <td>108</td>\n",
       "      <td>1</td>\n",
       "      <td>84</td>\n",
       "      <td>261</td>\n",
       "      <td>270</td>\n",
       "      <td>8</td>\n",
       "      <td>11</td>\n",
       "      <td>17</td>\n",
       "      <td>77</td>\n",
       "      <td>72</td>\n",
       "      <td>149</td>\n",
       "      <td>5.94</td>\n",
       "      <td>5.56</td>\n",
       "      <td>6.11</td>\n",
       "      <td>4.69</td>\n",
       "      <td>8.75</td>\n",
       "      <td>1.84</td>\n",
       "      <td>6.44</td>\n",
       "      <td>3.63</td>\n",
       "      <td>2.33</td>\n",
       "      <td>6.81</td>\n",
       "      <td>1.71</td>\n",
       "      <td>0.02</td>\n",
       "      <td>3.11</td>\n",
       "      <td>9.67</td>\n",
       "      <td>10.00</td>\n",
       "      <td>0.30</td>\n",
       "    </tr>\n",
       "    <tr>\n",
       "      <th>2</th>\n",
       "      <td>2</td>\n",
       "      <td>29</td>\n",
       "      <td>35</td>\n",
       "      <td>21</td>\n",
       "      <td>19</td>\n",
       "      <td>37</td>\n",
       "      <td>155</td>\n",
       "      <td>191</td>\n",
       "      <td>131</td>\n",
       "      <td>61</td>\n",
       "      <td>140</td>\n",
       "      <td>62</td>\n",
       "      <td>2</td>\n",
       "      <td>159</td>\n",
       "      <td>260</td>\n",
       "      <td>160</td>\n",
       "      <td>113</td>\n",
       "      <td>6</td>\n",
       "      <td>21</td>\n",
       "      <td>77</td>\n",
       "      <td>66</td>\n",
       "      <td>143</td>\n",
       "      <td>6.56</td>\n",
       "      <td>7.22</td>\n",
       "      <td>3.33</td>\n",
       "      <td>3.44</td>\n",
       "      <td>6.75</td>\n",
       "      <td>3.44</td>\n",
       "      <td>7.07</td>\n",
       "      <td>4.85</td>\n",
       "      <td>2.26</td>\n",
       "      <td>5.19</td>\n",
       "      <td>0.98</td>\n",
       "      <td>0.04</td>\n",
       "      <td>5.89</td>\n",
       "      <td>9.63</td>\n",
       "      <td>5.93</td>\n",
       "      <td>4.19</td>\n",
       "    </tr>\n",
       "    <tr>\n",
       "      <th>3</th>\n",
       "      <td>3</td>\n",
       "      <td>27</td>\n",
       "      <td>34</td>\n",
       "      <td>24</td>\n",
       "      <td>33</td>\n",
       "      <td>44</td>\n",
       "      <td>251</td>\n",
       "      <td>163</td>\n",
       "      <td>181</td>\n",
       "      <td>211</td>\n",
       "      <td>170</td>\n",
       "      <td>304</td>\n",
       "      <td>138</td>\n",
       "      <td>215</td>\n",
       "      <td>256</td>\n",
       "      <td>201</td>\n",
       "      <td>235</td>\n",
       "      <td>24</td>\n",
       "      <td>7</td>\n",
       "      <td>65</td>\n",
       "      <td>71</td>\n",
       "      <td>136</td>\n",
       "      <td>5.94</td>\n",
       "      <td>6.94</td>\n",
       "      <td>4.17</td>\n",
       "      <td>7.81</td>\n",
       "      <td>8.50</td>\n",
       "      <td>5.58</td>\n",
       "      <td>6.04</td>\n",
       "      <td>6.70</td>\n",
       "      <td>7.81</td>\n",
       "      <td>6.30</td>\n",
       "      <td>4.83</td>\n",
       "      <td>2.56</td>\n",
       "      <td>7.96</td>\n",
       "      <td>9.48</td>\n",
       "      <td>7.44</td>\n",
       "      <td>8.70</td>\n",
       "    </tr>\n",
       "    <tr>\n",
       "      <th>4</th>\n",
       "      <td>4</td>\n",
       "      <td>29</td>\n",
       "      <td>35</td>\n",
       "      <td>29</td>\n",
       "      <td>17</td>\n",
       "      <td>42</td>\n",
       "      <td>320</td>\n",
       "      <td>149</td>\n",
       "      <td>177</td>\n",
       "      <td>199</td>\n",
       "      <td>232</td>\n",
       "      <td>301</td>\n",
       "      <td>138</td>\n",
       "      <td>178</td>\n",
       "      <td>256</td>\n",
       "      <td>219</td>\n",
       "      <td>141</td>\n",
       "      <td>25</td>\n",
       "      <td>23</td>\n",
       "      <td>87</td>\n",
       "      <td>71</td>\n",
       "      <td>158</td>\n",
       "      <td>6.56</td>\n",
       "      <td>7.22</td>\n",
       "      <td>5.56</td>\n",
       "      <td>2.81</td>\n",
       "      <td>8.00</td>\n",
       "      <td>7.11</td>\n",
       "      <td>5.52</td>\n",
       "      <td>6.56</td>\n",
       "      <td>7.37</td>\n",
       "      <td>8.59</td>\n",
       "      <td>4.78</td>\n",
       "      <td>2.56</td>\n",
       "      <td>6.59</td>\n",
       "      <td>9.48</td>\n",
       "      <td>8.11</td>\n",
       "      <td>5.22</td>\n",
       "    </tr>\n",
       "  </tbody>\n",
       "</table>"
      ],
      "text/plain": [
       "<IPython.core.display.HTML object>"
      ]
     },
     "metadata": {},
     "output_type": "display_data"
    }
   ],
   "source": [
    "psilo_df = pd.read_csv(r'{}\\psilo_scored.csv'.format(filepath))\n",
    "dmt_df = pd.read_csv(r'{}\\dmt_scored.csv'.format(filepath))\n",
    "\n",
    "display(HTML(psilo_df.head().to_html()))\n",
    "display(HTML(dmt_df.head().to_html()))"
   ]
  },
  {
   "cell_type": "markdown",
   "metadata": {},
   "source": [
    "T-tests"
   ]
  },
  {
   "cell_type": "code",
   "execution_count": 20,
   "metadata": {},
   "outputs": [],
   "source": [
    "def ttest(df_pre, df_post, ttest_type=\"rel\", tail_type='two-sided', show_all=True, as_table=False, result_param=None):\n",
    "    from termcolor import colored\n",
    "    import pingouin as pg    \n",
    "    \n",
    "    # Condiciones:\n",
    "    # (If these assumptions are not true for a given set of data, it may still be possible to use the Kruskal-Wallis H-test)\n",
    "    # 1) solo para muestras independientes (no sirve para dependientes, tipo pre post)\n",
    "    # 2) solo para distribución normal (qqplo, shapiro wilks)\n",
    "    #shapiro_f, shapiro_pvalue = stats.shapiro(df)\n",
    "    # 3) solo con heterosticidad (levene)\n",
    "    #levene_f, levene_pvalue = stats.levene(*df_array)\n",
    "    \n",
    "    # Tuckey manual    \n",
    "    # print(colored('---', 'white', 'on_cyan'))    \n",
    "    var_pairs = []\n",
    "    for i in range(len(df_pre.columns)):\n",
    "        var_pairs.append((df_pre.columns[i], df_post.columns[i]))\n",
    "\n",
    "    # Calculo t test para cada par\n",
    "    for var1, var2 in var_pairs:\n",
    "        # muestras dependientes o independientes    \n",
    "        type_rel = False\n",
    "        if (ttest_type == \"rel\"):\n",
    "            type_rel = True\n",
    "            \n",
    "        df_ttest = pg.ttest(df_pre.loc[:, var1], df_post.loc[:, var2], paired=type_rel, alternative=tail_type)\n",
    "        T_stat = df_ttest.iloc[0]['T']\n",
    "        pvalue = df_ttest.iloc[0]['p-val']\n",
    "        cohensd = float(df_ttest.iloc[0]['cohen-d'])\n",
    "        bf10 = df_ttest.iloc[0]['BF10']\n",
    "        \n",
    "        # calculo las medias para saber para qué lado se corrió\n",
    "        var1_mean = df_pre.loc[:, var1].mean()\n",
    "        var1_sem = df_pre.loc[:, var1].sem()\n",
    "        var2_mean = df_post.loc[:, var2].mean()        \n",
    "        var2_sem = df_post.loc[:, var2].sem()\n",
    "        \n",
    "        # notación científica\n",
    "        if '{:.3f}'.format(pvalue) == '0.000':\n",
    "            pvalue_formatted = \"{:.2e}\".format(pvalue)\n",
    "        else:\n",
    "            pvalue_formatted = \"{:.3f}\".format(pvalue)\n",
    "        \n",
    "        # significancia\n",
    "        astsk = ''\n",
    "        if pvalue <= 0.05:\n",
    "            astsk = '(*)'\n",
    "        if pvalue <= 0.01:\n",
    "            astsk = '(**)'\n",
    "        if pvalue <= 0.001:\n",
    "            astsk = '(***)'\n",
    "            \n",
    "        if var1_mean < var2_mean:\n",
    "            mean_text = \"(x̄ aumentó)\"\n",
    "        elif var1_mean > var2_mean:\n",
    "            mean_text = \"(x̄ disminuyó)\"\n",
    "        else:\n",
    "            mean_text = \"(x̄ sin cambios)\"            \n",
    "            \n",
    "        if tail_type == 'two-sided':\n",
    "            # \"two-sided\" es 2 tail. alpha = 0.05\n",
    "            alpha = 0.05\n",
    "        elif tail_type == 'less' or tail_type == 'greater':\n",
    "            # \"less\"/\"greater\" es 1 tail. alpha = 0.1\n",
    "            alpha = 0.1   \n",
    " \n",
    "        # Print para evaluación\n",
    "        if pvalue <= alpha:\n",
    "            if (as_table):\n",
    "                # Print commatext para tablas: variable, mean 1 +- sem, mean 2 +- sem, p-value, cohen's d, bayes bf10\n",
    "                print(colored(\"{};{:.2f} ± {:.2f};{:.2f} ± {:.2f};{} {};{:.2f};{}\".format(var1, var1_mean, var1_sem, var2_mean, var2_sem, pvalue_formatted, astsk, cohensd, bf10), 'white', 'on_green'))\n",
    "            else:\n",
    "                print(colored('{}'.format(var1), 'white', 'on_green'))                 \n",
    "                print(colored('coef: {:.3f}, p-value {} {}, mean1 {:.2f} (sem1 {:.2f}), mean2 {:.2f} (sem2 {:.2f}), cohen''s-d {:.2f}, bf10 {}; {}'.format(T_stat, pvalue_formatted, astsk, var1_mean, var1_sem, var2_mean, var2_sem, cohensd, bf10, mean_text), 'white', 'on_green'))\n",
    "        else:\n",
    "            # solo muestro lso no significativos si tengo que mostrar todos:\n",
    "            if show_all:\n",
    "                if (as_table):\n",
    "                    # Print commatext para tablas: variable, mean 1 +- sem, mean 2 +- sem, p-value, cohen's d, bayes bf10\n",
    "                    print(\"{};{:.2f} ± {:.2f};{:.2f} ± {:.2f};{} {};{:.2f};{}\".format(var1, var1_mean, var1_sem, var2_mean, var2_sem, pvalue_formatted, astsk, cohensd, bf10))                    \n",
    "                else:                \n",
    "                    print('{}'.format(var1))                    \n",
    "                    print('coef: {:.3f}, p-value {} {}, mean1 {:.2f} (sem1 {:.2f}), mean2 {:.2f} (sem2 {:.2f}), cohen''s-d {:.2f}, bf10 {}; {}'.format(T_stat, pvalue_formatted, astsk, var1_mean, var1_sem, var2_mean, var2_sem, cohensd, bf10, mean_text))\n",
    "        \n",
    "        if result_param is not None:\n",
    "            result_param.append(\"{};{:.2f};{:.2f};{:.2f};{:.2f};{};{:.2f};{}\".format(var1, var1_mean, var1_sem, var2_mean, var2_sem, pvalue_formatted, cohensd, bf10))"
   ]
  },
  {
   "cell_type": "code",
   "execution_count": 21,
   "metadata": {},
   "outputs": [
    {
     "name": "stdout",
     "output_type": "stream",
     "text": [
      "\u001b[44m\u001b[37mPsilocybin VS DMT\u001b[0m\n"
     ]
    },
    {
     "name": "stdout",
     "output_type": "stream",
     "text": [
      "BFI-E_reranged;6.31 ± 0.31;6.35 ± 0.23;0.922 ;0.02;0.254\n",
      "BFI-A_reranged;7.01 ± 0.24;7.10 ± 0.22;0.783 ;0.07;0.261\n",
      "\u001b[42m\u001b[37mBFI-C_reranged;6.34 ± 0.30;5.49 ± 0.29;0.044 (*);0.51;1.486\u001b[0m\n",
      "BFI-N_reranged;3.70 ± 0.36;3.72 ± 0.28;0.957 ;0.01;0.253\n",
      "BFI-O_reranged;7.90 ± 0.28;8.22 ± 0.15;0.317 ;0.26;0.39\n",
      "5D-Unity_reranged;4.84 ± 0.63;4.75 ± 0.49;0.916 ;0.03;0.254\n",
      "5D-Spiritual_reranged;4.04 ± 0.49;4.97 ± 0.24;0.093 ;0.44;0.875\n",
      "5D-Blissful_reranged;6.12 ± 0.60;6.18 ± 0.44;0.930 ;0.02;0.253\n",
      "\u001b[42m\u001b[37m5D-Insightfulness_reranged;6.11 ± 0.62;4.50 ± 0.38;0.032 (*);0.56;1.939\u001b[0m\n",
      "\u001b[42m\u001b[37m5D-Disembodiment_reranged;3.01 ± 0.62;4.76 ± 0.53;0.036 (*);0.53;1.722\u001b[0m\n",
      "5D-ImpairedC&C_reranged;2.23 ± 0.33;2.22 ± 0.32;0.993 ;0.00;0.253\n",
      "5D-Anxiety_reranged;1.29 ± 0.31;1.35 ± 0.35;0.901 ;0.03;0.254\n",
      "\u001b[42m\u001b[37m5D-ComplexImagery_reranged;6.37 ± 0.57;5.03 ± 0.35;0.048 (*);0.51;1.409\u001b[0m\n",
      "\u001b[42m\u001b[37m5D-ElementaryImagery_reranged;7.04 ± 0.58;8.53 ± 0.35;0.031 (*);0.56;1.95\u001b[0m\n",
      "5D-AudioVisualSyn_reranged;5.84 ± 0.69;5.64 ± 0.48;0.806 ;0.06;0.259\n",
      "\u001b[42m\u001b[37m5D-ChangedMeaning_reranged;4.46 ± 0.47;2.66 ± 0.41;0.005 (**);0.72;7.858\u001b[0m\n"
     ]
    }
   ],
   "source": [
    "# Utilizo solamente las columnas normalizadas.           \n",
    "psilo_filter = [col for col in psilo_df if col.endswith('_reranged')]\n",
    "dmt_filter = [col for col in dmt_df if col.endswith('_reranged')]\n",
    "\n",
    "# Realizo el t-test.\n",
    "print(colored('Psilocybin VS DMT', 'white', 'on_blue'))\n",
    "ttest(psilo_df[psilo_filter], dmt_df[dmt_filter], \"ind\", tail_type='two-sided', show_all=True, as_table=True)"
   ]
  },
  {
   "cell_type": "markdown",
   "metadata": {},
   "source": [
    "Ploteo gráficos comparativos de las comparaciones significativos"
   ]
  },
  {
   "cell_type": "code",
   "execution_count": 22,
   "metadata": {},
   "outputs": [
    {
     "data": {
      "application/vnd.plotly.v1+json": {
       "config": {
        "plotlyServerURL": "https://plot.ly"
       },
       "data": [
        {
         "boxpoints": "all",
         "jitter": 0.3,
         "marker": {
          "color": "red"
         },
         "name": "Psilo",
         "pointpos": -1.8,
         "type": "box",
         "xaxis": "x",
         "y": [
          7.22,
          6.67,
          2.78,
          4.72,
          6.94,
          6.39,
          7.5,
          5,
          6.39,
          7.5,
          6.39,
          5.83,
          9.17,
          8.61,
          2.78,
          8.06,
          8.61,
          4.44,
          3.33,
          7.22,
          5.56,
          5.56,
          6.94,
          6.11,
          6.11,
          7.22,
          8.61,
          7.22,
          7.78,
          5.28,
          4.72
         ],
         "yaxis": "y"
        },
        {
         "boxpoints": "all",
         "jitter": 0.3,
         "marker": {
          "color": "blue"
         },
         "name": "DMT",
         "pointpos": -1.8,
         "type": "box",
         "xaxis": "x",
         "y": [
          5.56,
          6.11,
          3.33,
          4.17,
          5.56,
          1.11,
          6.11,
          4.44,
          5,
          6.11,
          6.11,
          3.61,
          5.56,
          6.67,
          3.89,
          6.67,
          7.78,
          6.11,
          6.11,
          6.94,
          7.78,
          4.72,
          5.83,
          8.06,
          5.83,
          8.33,
          8.61,
          6.94,
          5.83,
          4.72,
          4.17,
          3.89,
          4.72,
          3.61,
          2.22
         ],
         "yaxis": "y"
        },
        {
         "boxpoints": "all",
         "jitter": 0.3,
         "marker": {
          "color": "red"
         },
         "name": "Psilo",
         "pointpos": -1.8,
         "type": "box",
         "xaxis": "x4",
         "y": [
          1.11,
          7.04,
          1.48,
          0.37,
          0.74,
          10,
          9.26,
          0,
          4.07,
          1.11,
          10,
          10,
          5.19,
          8.15,
          9.26,
          10,
          10,
          5.93,
          8.52,
          5.19,
          7.78,
          7.41,
          7.04,
          10,
          6.3,
          5.93,
          4.81,
          10,
          7.78,
          0.74,
          4.07
         ],
         "yaxis": "y4"
        },
        {
         "boxpoints": "all",
         "jitter": 0.3,
         "marker": {
          "color": "blue"
         },
         "name": "DMT",
         "pointpos": -1.8,
         "type": "box",
         "xaxis": "x4",
         "y": [
          3.81,
          2.33,
          2.26,
          7.81,
          7.37,
          2.15,
          6.48,
          6.19,
          0,
          5.74,
          3.33,
          3.41,
          5.07,
          7.78,
          2.74,
          6.44,
          4.19,
          7.15,
          4.48,
          4.3,
          4.07,
          3,
          0.85,
          5.85,
          7.78,
          5.56,
          8.19,
          7.56,
          2.33,
          2.67,
          5.33,
          3.44,
          2.19,
          4.56,
          1.22
         ],
         "yaxis": "y4"
        },
        {
         "boxpoints": "all",
         "jitter": 0.3,
         "marker": {
          "color": "red"
         },
         "name": "Psilo",
         "pointpos": -1.8,
         "type": "box",
         "xaxis": "x2",
         "y": [
          0,
          3.7,
          0,
          3.7,
          0.74,
          0,
          7.04,
          0,
          0.74,
          0,
          8.52,
          10,
          1.48,
          1.11,
          6.3,
          6.67,
          10,
          6.3,
          0,
          0,
          1.11,
          7.04,
          0.37,
          9.26,
          3.7,
          2.96,
          1.11,
          0.37,
          0.74,
          0,
          0.37
         ],
         "yaxis": "y2"
        },
        {
         "boxpoints": "all",
         "jitter": 0.3,
         "marker": {
          "color": "blue"
         },
         "name": "DMT",
         "pointpos": -1.8,
         "type": "box",
         "xaxis": "x2",
         "y": [
          2.67,
          6.81,
          5.19,
          6.3,
          8.59,
          4.89,
          9.11,
          4.22,
          0,
          4.93,
          0.81,
          6.85,
          6.26,
          9.37,
          8.11,
          1.56,
          5.37,
          4.85,
          6,
          5.44,
          4.96,
          5.11,
          0.22,
          10.3,
          6.22,
          4.85,
          9.78,
          5.67,
          0.67,
          0,
          8.41,
          1.74,
          0.3,
          0,
          1
         ],
         "yaxis": "y2"
        },
        {
         "boxpoints": "all",
         "jitter": 0.3,
         "marker": {
          "color": "red"
         },
         "name": "Psilo",
         "pointpos": -1.8,
         "type": "box",
         "xaxis": "x5",
         "y": [
          2.59,
          10,
          1.48,
          4.07,
          3.7,
          8.15,
          8.89,
          0,
          4.07,
          3.7,
          9.63,
          10,
          5.56,
          8.15,
          10,
          10,
          10,
          7.78,
          0,
          7.78,
          6.67,
          6.3,
          5.93,
          10,
          7.04,
          7.41,
          9.26,
          8.15,
          4.07,
          1.11,
          5.93
         ],
         "yaxis": "y5"
        },
        {
         "boxpoints": "all",
         "jitter": 0.3,
         "marker": {
          "color": "blue"
         },
         "name": "DMT",
         "pointpos": -1.8,
         "type": "box",
         "xaxis": "x5",
         "y": [
          1.22,
          3.11,
          5.89,
          7.96,
          6.59,
          1.78,
          3.7,
          6.96,
          3.33,
          4.19,
          3.41,
          8.11,
          6.93,
          6.41,
          2.81,
          5.04,
          6.22,
          6.44,
          5.33,
          2.59,
          5.52,
          6.67,
          4.52,
          6.41,
          1.74,
          1.96,
          7,
          6.52,
          6.19,
          7.07,
          6.3,
          6.41,
          3.78,
          6.67,
          1.11
         ],
         "yaxis": "y5"
        },
        {
         "boxpoints": "all",
         "jitter": 0.3,
         "marker": {
          "color": "red"
         },
         "name": "Psilo",
         "pointpos": -1.8,
         "type": "box",
         "xaxis": "x3",
         "y": [
          3.33,
          10,
          8.89,
          5.56,
          9.63,
          10,
          9.26,
          3.33,
          2.59,
          10,
          10,
          3.7,
          4.44,
          6.3,
          10,
          6.67,
          10,
          5.93,
          0,
          1.85,
          8.52,
          8.52,
          10,
          10,
          7.04,
          8.52,
          10,
          10,
          2.22,
          2.22,
          9.63
         ],
         "yaxis": "y3"
        },
        {
         "boxpoints": "all",
         "jitter": 0.3,
         "marker": {
          "color": "blue"
         },
         "name": "DMT",
         "pointpos": -1.8,
         "type": "box",
         "xaxis": "x3",
         "y": [
          9.63,
          9.67,
          9.63,
          9.48,
          9.48,
          9.89,
          9.22,
          8.96,
          9.44,
          9.11,
          10,
          10,
          9.37,
          9.44,
          7.33,
          8.7,
          6.19,
          2.33,
          9.7,
          4.96,
          10,
          4.96,
          6.19,
          10,
          9.78,
          9.78,
          9.67,
          9,
          8.63,
          10,
          9.33,
          10,
          10,
          3.52,
          5.11
         ],
         "yaxis": "y3"
        },
        {
         "boxpoints": "all",
         "jitter": 0.3,
         "marker": {
          "color": "red"
         },
         "name": "Psilo",
         "pointpos": -1.8,
         "type": "box",
         "xaxis": "x6",
         "y": [
          0,
          5.93,
          2.59,
          3.33,
          1.85,
          8.52,
          8.15,
          0,
          7.41,
          4.81,
          7.41,
          3.33,
          1.85,
          6.3,
          5.56,
          10,
          3.33,
          4.07,
          2.59,
          2.96,
          5.93,
          5.19,
          4.81,
          8.15,
          5.19,
          4.07,
          1.85,
          6.67,
          4.07,
          1.48,
          0.74
         ],
         "yaxis": "y6"
        },
        {
         "boxpoints": "all",
         "jitter": 0.3,
         "marker": {
          "color": "blue"
         },
         "name": "DMT",
         "pointpos": -1.8,
         "type": "box",
         "xaxis": "x6",
         "y": [
          1.67,
          0.3,
          4.19,
          8.7,
          5.22,
          3.3,
          4.85,
          1.89,
          0.15,
          1.48,
          2.19,
          5.3,
          2.44,
          1.81,
          2.07,
          3.59,
          2.63,
          8.48,
          3.89,
          0,
          3.19,
          2.33,
          0,
          0,
          1.22,
          1.07,
          0.22,
          1.22,
          5.33,
          8.07,
          1.3,
          1.11,
          0.41,
          3.33,
          0.3
         ],
         "yaxis": "y6"
        }
       ],
       "layout": {
        "annotations": [
         {
          "font": {
           "size": 16
          },
          "showarrow": false,
          "text": "BFI-C_reranged",
          "x": 0.14444444444444446,
          "xanchor": "center",
          "xref": "paper",
          "y": 1,
          "yanchor": "bottom",
          "yref": "paper"
         },
         {
          "font": {
           "size": 16
          },
          "showarrow": false,
          "text": "5D-Insightfulness_reranged",
          "x": 0.5,
          "xanchor": "center",
          "xref": "paper",
          "y": 1,
          "yanchor": "bottom",
          "yref": "paper"
         },
         {
          "font": {
           "size": 16
          },
          "showarrow": false,
          "text": "5D-Disembodiment_reranged",
          "x": 0.8555555555555556,
          "xanchor": "center",
          "xref": "paper",
          "y": 1,
          "yanchor": "bottom",
          "yref": "paper"
         },
         {
          "font": {
           "size": 16
          },
          "showarrow": false,
          "text": "5D-ComplexImagery_reranged",
          "x": 0.14444444444444446,
          "xanchor": "center",
          "xref": "paper",
          "y": 0.375,
          "yanchor": "bottom",
          "yref": "paper"
         },
         {
          "font": {
           "size": 16
          },
          "showarrow": false,
          "text": "5D-ElementaryImagery_reranged",
          "x": 0.5,
          "xanchor": "center",
          "xref": "paper",
          "y": 0.375,
          "yanchor": "bottom",
          "yref": "paper"
         },
         {
          "font": {
           "size": 16
          },
          "showarrow": false,
          "text": "5D-ChangedMeaning_reranged",
          "x": 0.8555555555555556,
          "xanchor": "center",
          "xref": "paper",
          "y": 0.375,
          "yanchor": "bottom",
          "yref": "paper"
         }
        ],
        "height": 800,
        "showlegend": false,
        "template": {
         "data": {
          "bar": [
           {
            "error_x": {
             "color": "#2a3f5f"
            },
            "error_y": {
             "color": "#2a3f5f"
            },
            "marker": {
             "line": {
              "color": "#E5ECF6",
              "width": 0.5
             },
             "pattern": {
              "fillmode": "overlay",
              "size": 10,
              "solidity": 0.2
             }
            },
            "type": "bar"
           }
          ],
          "barpolar": [
           {
            "marker": {
             "line": {
              "color": "#E5ECF6",
              "width": 0.5
             },
             "pattern": {
              "fillmode": "overlay",
              "size": 10,
              "solidity": 0.2
             }
            },
            "type": "barpolar"
           }
          ],
          "carpet": [
           {
            "aaxis": {
             "endlinecolor": "#2a3f5f",
             "gridcolor": "white",
             "linecolor": "white",
             "minorgridcolor": "white",
             "startlinecolor": "#2a3f5f"
            },
            "baxis": {
             "endlinecolor": "#2a3f5f",
             "gridcolor": "white",
             "linecolor": "white",
             "minorgridcolor": "white",
             "startlinecolor": "#2a3f5f"
            },
            "type": "carpet"
           }
          ],
          "choropleth": [
           {
            "colorbar": {
             "outlinewidth": 0,
             "ticks": ""
            },
            "type": "choropleth"
           }
          ],
          "contour": [
           {
            "colorbar": {
             "outlinewidth": 0,
             "ticks": ""
            },
            "colorscale": [
             [
              0,
              "#0d0887"
             ],
             [
              0.1111111111111111,
              "#46039f"
             ],
             [
              0.2222222222222222,
              "#7201a8"
             ],
             [
              0.3333333333333333,
              "#9c179e"
             ],
             [
              0.4444444444444444,
              "#bd3786"
             ],
             [
              0.5555555555555556,
              "#d8576b"
             ],
             [
              0.6666666666666666,
              "#ed7953"
             ],
             [
              0.7777777777777778,
              "#fb9f3a"
             ],
             [
              0.8888888888888888,
              "#fdca26"
             ],
             [
              1,
              "#f0f921"
             ]
            ],
            "type": "contour"
           }
          ],
          "contourcarpet": [
           {
            "colorbar": {
             "outlinewidth": 0,
             "ticks": ""
            },
            "type": "contourcarpet"
           }
          ],
          "heatmap": [
           {
            "colorbar": {
             "outlinewidth": 0,
             "ticks": ""
            },
            "colorscale": [
             [
              0,
              "#0d0887"
             ],
             [
              0.1111111111111111,
              "#46039f"
             ],
             [
              0.2222222222222222,
              "#7201a8"
             ],
             [
              0.3333333333333333,
              "#9c179e"
             ],
             [
              0.4444444444444444,
              "#bd3786"
             ],
             [
              0.5555555555555556,
              "#d8576b"
             ],
             [
              0.6666666666666666,
              "#ed7953"
             ],
             [
              0.7777777777777778,
              "#fb9f3a"
             ],
             [
              0.8888888888888888,
              "#fdca26"
             ],
             [
              1,
              "#f0f921"
             ]
            ],
            "type": "heatmap"
           }
          ],
          "heatmapgl": [
           {
            "colorbar": {
             "outlinewidth": 0,
             "ticks": ""
            },
            "colorscale": [
             [
              0,
              "#0d0887"
             ],
             [
              0.1111111111111111,
              "#46039f"
             ],
             [
              0.2222222222222222,
              "#7201a8"
             ],
             [
              0.3333333333333333,
              "#9c179e"
             ],
             [
              0.4444444444444444,
              "#bd3786"
             ],
             [
              0.5555555555555556,
              "#d8576b"
             ],
             [
              0.6666666666666666,
              "#ed7953"
             ],
             [
              0.7777777777777778,
              "#fb9f3a"
             ],
             [
              0.8888888888888888,
              "#fdca26"
             ],
             [
              1,
              "#f0f921"
             ]
            ],
            "type": "heatmapgl"
           }
          ],
          "histogram": [
           {
            "marker": {
             "pattern": {
              "fillmode": "overlay",
              "size": 10,
              "solidity": 0.2
             }
            },
            "type": "histogram"
           }
          ],
          "histogram2d": [
           {
            "colorbar": {
             "outlinewidth": 0,
             "ticks": ""
            },
            "colorscale": [
             [
              0,
              "#0d0887"
             ],
             [
              0.1111111111111111,
              "#46039f"
             ],
             [
              0.2222222222222222,
              "#7201a8"
             ],
             [
              0.3333333333333333,
              "#9c179e"
             ],
             [
              0.4444444444444444,
              "#bd3786"
             ],
             [
              0.5555555555555556,
              "#d8576b"
             ],
             [
              0.6666666666666666,
              "#ed7953"
             ],
             [
              0.7777777777777778,
              "#fb9f3a"
             ],
             [
              0.8888888888888888,
              "#fdca26"
             ],
             [
              1,
              "#f0f921"
             ]
            ],
            "type": "histogram2d"
           }
          ],
          "histogram2dcontour": [
           {
            "colorbar": {
             "outlinewidth": 0,
             "ticks": ""
            },
            "colorscale": [
             [
              0,
              "#0d0887"
             ],
             [
              0.1111111111111111,
              "#46039f"
             ],
             [
              0.2222222222222222,
              "#7201a8"
             ],
             [
              0.3333333333333333,
              "#9c179e"
             ],
             [
              0.4444444444444444,
              "#bd3786"
             ],
             [
              0.5555555555555556,
              "#d8576b"
             ],
             [
              0.6666666666666666,
              "#ed7953"
             ],
             [
              0.7777777777777778,
              "#fb9f3a"
             ],
             [
              0.8888888888888888,
              "#fdca26"
             ],
             [
              1,
              "#f0f921"
             ]
            ],
            "type": "histogram2dcontour"
           }
          ],
          "mesh3d": [
           {
            "colorbar": {
             "outlinewidth": 0,
             "ticks": ""
            },
            "type": "mesh3d"
           }
          ],
          "parcoords": [
           {
            "line": {
             "colorbar": {
              "outlinewidth": 0,
              "ticks": ""
             }
            },
            "type": "parcoords"
           }
          ],
          "pie": [
           {
            "automargin": true,
            "type": "pie"
           }
          ],
          "scatter": [
           {
            "marker": {
             "colorbar": {
              "outlinewidth": 0,
              "ticks": ""
             }
            },
            "type": "scatter"
           }
          ],
          "scatter3d": [
           {
            "line": {
             "colorbar": {
              "outlinewidth": 0,
              "ticks": ""
             }
            },
            "marker": {
             "colorbar": {
              "outlinewidth": 0,
              "ticks": ""
             }
            },
            "type": "scatter3d"
           }
          ],
          "scattercarpet": [
           {
            "marker": {
             "colorbar": {
              "outlinewidth": 0,
              "ticks": ""
             }
            },
            "type": "scattercarpet"
           }
          ],
          "scattergeo": [
           {
            "marker": {
             "colorbar": {
              "outlinewidth": 0,
              "ticks": ""
             }
            },
            "type": "scattergeo"
           }
          ],
          "scattergl": [
           {
            "marker": {
             "colorbar": {
              "outlinewidth": 0,
              "ticks": ""
             }
            },
            "type": "scattergl"
           }
          ],
          "scattermapbox": [
           {
            "marker": {
             "colorbar": {
              "outlinewidth": 0,
              "ticks": ""
             }
            },
            "type": "scattermapbox"
           }
          ],
          "scatterpolar": [
           {
            "marker": {
             "colorbar": {
              "outlinewidth": 0,
              "ticks": ""
             }
            },
            "type": "scatterpolar"
           }
          ],
          "scatterpolargl": [
           {
            "marker": {
             "colorbar": {
              "outlinewidth": 0,
              "ticks": ""
             }
            },
            "type": "scatterpolargl"
           }
          ],
          "scatterternary": [
           {
            "marker": {
             "colorbar": {
              "outlinewidth": 0,
              "ticks": ""
             }
            },
            "type": "scatterternary"
           }
          ],
          "surface": [
           {
            "colorbar": {
             "outlinewidth": 0,
             "ticks": ""
            },
            "colorscale": [
             [
              0,
              "#0d0887"
             ],
             [
              0.1111111111111111,
              "#46039f"
             ],
             [
              0.2222222222222222,
              "#7201a8"
             ],
             [
              0.3333333333333333,
              "#9c179e"
             ],
             [
              0.4444444444444444,
              "#bd3786"
             ],
             [
              0.5555555555555556,
              "#d8576b"
             ],
             [
              0.6666666666666666,
              "#ed7953"
             ],
             [
              0.7777777777777778,
              "#fb9f3a"
             ],
             [
              0.8888888888888888,
              "#fdca26"
             ],
             [
              1,
              "#f0f921"
             ]
            ],
            "type": "surface"
           }
          ],
          "table": [
           {
            "cells": {
             "fill": {
              "color": "#EBF0F8"
             },
             "line": {
              "color": "white"
             }
            },
            "header": {
             "fill": {
              "color": "#C8D4E3"
             },
             "line": {
              "color": "white"
             }
            },
            "type": "table"
           }
          ]
         },
         "layout": {
          "annotationdefaults": {
           "arrowcolor": "#2a3f5f",
           "arrowhead": 0,
           "arrowwidth": 1
          },
          "autotypenumbers": "strict",
          "coloraxis": {
           "colorbar": {
            "outlinewidth": 0,
            "ticks": ""
           }
          },
          "colorscale": {
           "diverging": [
            [
             0,
             "#8e0152"
            ],
            [
             0.1,
             "#c51b7d"
            ],
            [
             0.2,
             "#de77ae"
            ],
            [
             0.3,
             "#f1b6da"
            ],
            [
             0.4,
             "#fde0ef"
            ],
            [
             0.5,
             "#f7f7f7"
            ],
            [
             0.6,
             "#e6f5d0"
            ],
            [
             0.7,
             "#b8e186"
            ],
            [
             0.8,
             "#7fbc41"
            ],
            [
             0.9,
             "#4d9221"
            ],
            [
             1,
             "#276419"
            ]
           ],
           "sequential": [
            [
             0,
             "#0d0887"
            ],
            [
             0.1111111111111111,
             "#46039f"
            ],
            [
             0.2222222222222222,
             "#7201a8"
            ],
            [
             0.3333333333333333,
             "#9c179e"
            ],
            [
             0.4444444444444444,
             "#bd3786"
            ],
            [
             0.5555555555555556,
             "#d8576b"
            ],
            [
             0.6666666666666666,
             "#ed7953"
            ],
            [
             0.7777777777777778,
             "#fb9f3a"
            ],
            [
             0.8888888888888888,
             "#fdca26"
            ],
            [
             1,
             "#f0f921"
            ]
           ],
           "sequentialminus": [
            [
             0,
             "#0d0887"
            ],
            [
             0.1111111111111111,
             "#46039f"
            ],
            [
             0.2222222222222222,
             "#7201a8"
            ],
            [
             0.3333333333333333,
             "#9c179e"
            ],
            [
             0.4444444444444444,
             "#bd3786"
            ],
            [
             0.5555555555555556,
             "#d8576b"
            ],
            [
             0.6666666666666666,
             "#ed7953"
            ],
            [
             0.7777777777777778,
             "#fb9f3a"
            ],
            [
             0.8888888888888888,
             "#fdca26"
            ],
            [
             1,
             "#f0f921"
            ]
           ]
          },
          "colorway": [
           "#636efa",
           "#EF553B",
           "#00cc96",
           "#ab63fa",
           "#FFA15A",
           "#19d3f3",
           "#FF6692",
           "#B6E880",
           "#FF97FF",
           "#FECB52"
          ],
          "font": {
           "color": "#2a3f5f"
          },
          "geo": {
           "bgcolor": "white",
           "lakecolor": "white",
           "landcolor": "#E5ECF6",
           "showlakes": true,
           "showland": true,
           "subunitcolor": "white"
          },
          "hoverlabel": {
           "align": "left"
          },
          "hovermode": "closest",
          "mapbox": {
           "style": "light"
          },
          "paper_bgcolor": "white",
          "plot_bgcolor": "#E5ECF6",
          "polar": {
           "angularaxis": {
            "gridcolor": "white",
            "linecolor": "white",
            "ticks": ""
           },
           "bgcolor": "#E5ECF6",
           "radialaxis": {
            "gridcolor": "white",
            "linecolor": "white",
            "ticks": ""
           }
          },
          "scene": {
           "xaxis": {
            "backgroundcolor": "#E5ECF6",
            "gridcolor": "white",
            "gridwidth": 2,
            "linecolor": "white",
            "showbackground": true,
            "ticks": "",
            "zerolinecolor": "white"
           },
           "yaxis": {
            "backgroundcolor": "#E5ECF6",
            "gridcolor": "white",
            "gridwidth": 2,
            "linecolor": "white",
            "showbackground": true,
            "ticks": "",
            "zerolinecolor": "white"
           },
           "zaxis": {
            "backgroundcolor": "#E5ECF6",
            "gridcolor": "white",
            "gridwidth": 2,
            "linecolor": "white",
            "showbackground": true,
            "ticks": "",
            "zerolinecolor": "white"
           }
          },
          "shapedefaults": {
           "line": {
            "color": "#2a3f5f"
           }
          },
          "ternary": {
           "aaxis": {
            "gridcolor": "white",
            "linecolor": "white",
            "ticks": ""
           },
           "baxis": {
            "gridcolor": "white",
            "linecolor": "white",
            "ticks": ""
           },
           "bgcolor": "#E5ECF6",
           "caxis": {
            "gridcolor": "white",
            "linecolor": "white",
            "ticks": ""
           }
          },
          "title": {
           "x": 0.05
          },
          "xaxis": {
           "automargin": true,
           "gridcolor": "white",
           "linecolor": "white",
           "ticks": "",
           "title": {
            "standoff": 15
           },
           "zerolinecolor": "white",
           "zerolinewidth": 2
          },
          "yaxis": {
           "automargin": true,
           "gridcolor": "white",
           "linecolor": "white",
           "ticks": "",
           "title": {
            "standoff": 15
           },
           "zerolinecolor": "white",
           "zerolinewidth": 2
          }
         }
        },
        "title": {
         "text": "Sigificative differences",
         "x": 0.5
        },
        "width": 1000,
        "xaxis": {
         "anchor": "y",
         "domain": [
          0,
          0.2888888888888889
         ]
        },
        "xaxis2": {
         "anchor": "y2",
         "domain": [
          0.35555555555555557,
          0.6444444444444445
         ]
        },
        "xaxis3": {
         "anchor": "y3",
         "domain": [
          0.7111111111111111,
          1
         ]
        },
        "xaxis4": {
         "anchor": "y4",
         "domain": [
          0,
          0.2888888888888889
         ]
        },
        "xaxis5": {
         "anchor": "y5",
         "domain": [
          0.35555555555555557,
          0.6444444444444445
         ]
        },
        "xaxis6": {
         "anchor": "y6",
         "domain": [
          0.7111111111111111,
          1
         ]
        },
        "yaxis": {
         "anchor": "x",
         "domain": [
          0.625,
          1
         ]
        },
        "yaxis2": {
         "anchor": "x2",
         "domain": [
          0.625,
          1
         ],
         "matches": "y",
         "showticklabels": false
        },
        "yaxis3": {
         "anchor": "x3",
         "domain": [
          0.625,
          1
         ],
         "matches": "y",
         "showticklabels": false
        },
        "yaxis4": {
         "anchor": "x4",
         "domain": [
          0,
          0.375
         ]
        },
        "yaxis5": {
         "anchor": "x5",
         "domain": [
          0,
          0.375
         ],
         "matches": "y4",
         "showticklabels": false
        },
        "yaxis6": {
         "anchor": "x6",
         "domain": [
          0,
          0.375
         ],
         "matches": "y4",
         "showticklabels": false
        }
       }
      }
     },
     "metadata": {},
     "output_type": "display_data"
    }
   ],
   "source": [
    "# Lista de columnas significativas\n",
    "columnas_significativas = [\n",
    "    'BFI-C_reranged',\n",
    "    '5D-Insightfulness_reranged',\n",
    "    '5D-Disembodiment_reranged',\n",
    "    '5D-ComplexImagery_reranged',\n",
    "    '5D-ElementaryImagery_reranged',\n",
    "    '5D-ChangedMeaning_reranged'\n",
    "]\n",
    "\n",
    "# Colores para Psilocibina y DMT\n",
    "colors = ['red', 'blue']\n",
    "\n",
    "# Creo un subplot de 3 filas y 2 columnas\n",
    "fig = sp.make_subplots(rows=2, cols=3, shared_yaxes=True, subplot_titles=columnas_significativas, row_heights=[0.8, 0.8])\n",
    "\n",
    "for i, columna in enumerate(columnas_significativas):\n",
    "    row = i % 2 + 1\n",
    "    col = i // 2 + 1    \n",
    "    box_data = []\n",
    "    \n",
    "    for grupo, color in zip(['Psilo', 'DMT'], colors):\n",
    "        if grupo == 'Psilo':\n",
    "            subset = psilo_df\n",
    "        else:\n",
    "            subset = dmt_df\n",
    "        \n",
    "        box_trace = go.Box(y=subset[columna], name=grupo, boxpoints=\"all\", jitter=0.3, pointpos=-1.8, marker=dict(color=color))\n",
    "        box_data.append(box_trace)\n",
    "    \n",
    "    fig.add_traces(box_data, rows=row, cols=col)\n",
    "\n",
    "# Actualizo el layout\n",
    "fig.update_layout(title='Sigificative differences', title_x=0.5, showlegend=False)\n",
    "fig.update_layout(height=800, width=1000)\n",
    "fig.show()\n",
    "\n"
   ]
  },
  {
   "cell_type": "markdown",
   "metadata": {},
   "source": [
    "Correlation matrix"
   ]
  },
  {
   "cell_type": "code",
   "execution_count": 27,
   "metadata": {},
   "outputs": [],
   "source": [
    "def plot_corr_matrix(df, title, x_labels, y_labels, p_value=0.05, r_threshold=0.3, mult_comparison=True, sq_size=30, method='pearson', save_dir=\"\", file_name=\"\"):  \n",
    "    import matplotlib.pyplot as plt\n",
    "    import seaborn as sns\n",
    "    import pandas as pd\n",
    "    from scipy import stats\n",
    "    import numpy as np\n",
    "    import os.path\n",
    "\n",
    "    corr_matrix = df.corr(method=method)\n",
    "\n",
    "    # Calculo las correlaciones y sus p-values\n",
    "    pval_matrix = pd.DataFrame()\n",
    "    for x in df.columns:\n",
    "        for y in df.columns:\n",
    "            corr = stats.pearsonr(df[x], df[y])\n",
    "            corr_matrix.loc[x,y] = corr[0]\n",
    "            pval_matrix.loc[x,y] = corr[1]\n",
    "\n",
    "    # si corrijo por comparaciones múltiples divido el p-valor por la cantidad de correlaciones que hago\n",
    "    if mult_comparison:\n",
    "        p_value = p_value / (len(df.columns)*len(df.columns))\n",
    "\n",
    "    # Me quedo sólo con los p-values significativos\n",
    "    # Armo la matriz y su máscara:\n",
    "    pval_matrix = pval_matrix[pval_matrix <= p_value]\n",
    "    pval_mask = np.zeros_like(pval_matrix, dtype=bool)\n",
    "    pval_mask[pval_matrix <= pval_matrix] = True\n",
    "\n",
    "    # Armo otra máscara para no mostrar el triangulo superior\n",
    "    mask = np.zeros_like(corr_matrix, dtype=bool)\n",
    "    mask = mask + pval_mask\n",
    "    mask[np.triu_indices_from(mask, 0)] = False #True para eliminar la máscara\n",
    "    mask = ~mask\n",
    "\n",
    "    # Mmuestro solo las correlaciones que superen cierto umbral\n",
    "    corr_matrix_htmp = corr_matrix[abs(corr_matrix) >= r_threshold]\n",
    "\n",
    "    # Armo el heatmap\n",
    "    fig, ax = plt.subplots(figsize=(sq_size, sq_size))\n",
    "    ax.set_title(title, fontsize = 16) \n",
    "        \n",
    "    # Figure settings\n",
    "    ax = sns.heatmap(corr_matrix_htmp,                \n",
    "                mask = mask,                \n",
    "                ax = ax,\n",
    "                xticklabels = x_labels, \n",
    "                yticklabels = y_labels,                                \n",
    "                square = True,                \n",
    "                annot = True,\n",
    "                cmap = \"coolwarm\",\n",
    "                cbar_kws = {\"shrink\": .3,\n",
    "                            \"ticks\": [-1, -.5, 0, 0.5, 1]},\n",
    "                vmin = -1,\n",
    "                vmax = 1,                \n",
    "                annot_kws = {\"size\": 8}\n",
    "                )  \n",
    "\n",
    "    # Colorbar settings    \n",
    "    cax = plt.gcf().axes[-1]\n",
    "    cax.tick_params(labelsize=10)\n",
    "    \n",
    "    # Axis post settings\n",
    "    # plt.xticks(rotation=45) \n",
    "    \n",
    "    plt.show()\n",
    "    \n",
    "    if os.path.isdir(save_dir):        \n",
    "        if file_name == '':\n",
    "            file_name = title\n",
    "        fig_dir = (r'{}\\{}.png').format(save_dir, file_name)    \n",
    "        figure = ax.get_figure()  \n",
    "        figure.savefig(fig_dir, format='png', dpi=400, transparent=False)        \n",
    "    plt.close()"
   ]
  },
  {
   "cell_type": "code",
   "execution_count": 28,
   "metadata": {},
   "outputs": [
    {
     "data": {
      "image/png": "[encoded data removed]",
      "text/plain": [
       "<Figure size 1000x1000 with 2 Axes>"
      ]
     },
     "metadata": {},
     "output_type": "display_data"
    },
    {
     "data": {
      "image/png": "[encoded data removed]",
      "text/plain": [
       "<Figure size 1000x1000 with 2 Axes>"
      ]
     },
     "metadata": {},
     "output_type": "display_data"
    }
   ],
   "source": [
    "column_list = [col for col in psilo_df if (col.endswith('_reranged'))]\n",
    "\n",
    "cols_labels = [col.replace('_reranged', '') for col in column_list]\n",
    "rows_labels = [col.replace('_reranged', '') for col in column_list]\n",
    "\n",
    "method = 'pearson' #spearman                   \n",
    "\n",
    "plot_corr_matrix(psilo_df[column_list], \"Psilocybin - Correlation matrix between scales\", cols_labels, rows_labels, \n",
    "                 p_value=0.05, r_threshold=0.3, mult_comparison=False, method=method, sq_size=10)\n",
    "\n",
    "plot_corr_matrix(dmt_df[column_list], \"DMT - Correlation matrix between scales\", cols_labels, rows_labels, \n",
    "                 p_value=0.05, r_threshold=0.3, mult_comparison=False, method=method, sq_size=10)"
   ]
  }
 ],
 "metadata": {
  "kernelspec": {
   "display_name": "base",
   "language": "python",
   "name": "python3"
  },
  "language_info": {
   "codemirror_mode": {
    "name": "ipython",
    "version": 3
   },
   "file_extension": ".py",
   "mimetype": "text/x-python",
   "name": "python",
   "nbconvert_exporter": "python",
   "pygments_lexer": "ipython3",
   "version": "3.8.8"
  },
  "orig_nbformat": 4
 },
 "nbformat": 4,
 "nbformat_minor": 2
}
